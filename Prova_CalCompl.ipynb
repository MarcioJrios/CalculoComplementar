{
 "cells": [
  {
   "cell_type": "markdown",
   "metadata": {},
   "source": [
    "Questão 1:"
   ]
  },
  {
   "cell_type": "code",
   "execution_count": 1,
   "metadata": {},
   "outputs": [],
   "source": [
    "import sympy as symp"
   ]
  },
  {
   "cell_type": "code",
   "execution_count": 2,
   "metadata": {},
   "outputs": [
    {
     "name": "stdout",
     "output_type": "stream",
     "text": [
      "analise marginal:  2100\n"
     ]
    }
   ],
   "source": [
    "x_sb, y_sb, z_sb = symp.symbols('x y z')\n",
    "\n",
    "f = 1200*x_sb + 500*y_sb + pow(x_sb,2)*y_sb - pow(x_sb,3) - pow(y_sb,2)\n",
    "\n",
    "derivada = symp.diff(f,x_sb)\n",
    "z = lambda x, y: eval(str(derivada))\n",
    "print('analise marginal: ', z(30,60))"
   ]
  },
  {
   "cell_type": "code",
   "execution_count": 3,
   "metadata": {},
   "outputs": [
    {
     "name": "stdout",
     "output_type": "stream",
     "text": [
      "taxa de variacao:  2069\n"
     ]
    }
   ],
   "source": [
    "# taxa de variacao\n",
    "fx = lambda x, y: 1200*x + 500*y + pow(x,2)*y - pow(x,3) - pow(y,2)\n",
    "print('taxa de variacao: ', fx(30+1,60)-fx(30,60))"
   ]
  },
  {
   "cell_type": "markdown",
   "metadata": {},
   "source": [
    "Questão 2:"
   ]
  },
  {
   "cell_type": "code",
   "execution_count": 4,
   "metadata": {},
   "outputs": [
    {
     "name": "stdout",
     "output_type": "stream",
     "text": [
      "6800 - 800*x\n"
     ]
    }
   ],
   "source": [
    "import pylab as plt\n",
    "\n",
    "x = symp.symbols('x')\n",
    "\n",
    "d = symp.diff(-(400*(x**2)) + (6800*x) - (12000), x)\n",
    "print(d)"
   ]
  },
  {
   "cell_type": "code",
   "execution_count": 5,
   "metadata": {},
   "outputs": [
    {
     "name": "stdout",
     "output_type": "stream",
     "text": [
      "-400\n"
     ]
    }
   ],
   "source": [
    "#derivada = sym.diff(f,x_sb)\n",
    "derivada = lambda x: eval(str(d))\n",
    "print(derivada(9)) \n",
    "\n",
    "# Com a inclinação sendo -400, singnifica que a inclinação é para baixo \n",
    "# Logo, para um nível de produção de 9000 unidades, o lucro diminui quando a produção aumenta"
   ]
  },
  {
   "cell_type": "markdown",
   "metadata": {},
   "source": [
    "Questão 3:"
   ]
  },
  {
   "cell_type": "code",
   "execution_count": 6,
   "metadata": {},
   "outputs": [],
   "source": [
    "import numpy as np"
   ]
  },
  {
   "cell_type": "markdown",
   "metadata": {},
   "source": [
    "a: A criança pesa 34 kg A criança tem 1 m e 20 cm de altura. O objetivo do problema é estimar qual será a variação da área superficial se a criança engorda 1 kg e altura permanecer inalterada."
   ]
  },
  {
   "cell_type": "markdown",
   "metadata": {},
   "source": [
    "b:"
   ]
  },
  {
   "cell_type": "code",
   "execution_count": 7,
   "metadata": {},
   "outputs": [
    {
     "name": "stdout",
     "output_type": "stream",
     "text": [
      "0.012961333555455532\n",
      "0.006782365086759479\n"
     ]
    }
   ],
   "source": [
    "fw = lambda w,h: (0.00306*w**(-0.575)) * h**0.725\n",
    "fh = lambda w,h: 0.00522*w**0.425 * h**(-0.275)\n",
    "print(fw(50,163))\n",
    "print(fh(50,163))"
   ]
  },
  {
   "cell_type": "markdown",
   "metadata": {},
   "source": [
    "c:"
   ]
  },
  {
   "cell_type": "code",
   "execution_count": 8,
   "metadata": {},
   "outputs": [
    {
     "name": "stdout",
     "output_type": "stream",
     "text": [
      "0.0004559273231530478\n"
     ]
    }
   ],
   "source": [
    "f1 = lambda w,h: (0.0072*w**0.425)*(h**0.725)\n",
    "print(f1(35,1.20)-f1(34,1.20))"
   ]
  }
 ],
 "metadata": {
  "kernelspec": {
   "display_name": "'Python Interactive'",
   "language": "python",
   "name": "e9d3b7b8-69e2-43df-901c-0cdff31297a7"
  },
  "language_info": {
   "codemirror_mode": {
    "name": "ipython",
    "version": 3
   },
   "file_extension": ".py",
   "mimetype": "text/x-python",
   "name": "python",
   "nbconvert_exporter": "python",
   "pygments_lexer": "ipython3",
   "version": "3.6.8"
  }
 },
 "nbformat": 4,
 "nbformat_minor": 2
}
